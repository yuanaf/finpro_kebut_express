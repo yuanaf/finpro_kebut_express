{
 "cells": [
  {
   "cell_type": "code",
   "execution_count": 51,
   "id": "edb49d3a-c132-4043-9f5f-17f4006d70aa",
   "metadata": {},
   "outputs": [],
   "source": [
    "import pandas as pd\n",
    "import numpy as np\n",
    "\n",
    "import matplotlib.pyplot as plt\n",
    "import seaborn as sns\n",
    "from matplotlib import rcParams\n",
    "import warnings\n",
    "warnings.filterwarnings('ignore')"
   ]
  },
  {
   "cell_type": "code",
   "execution_count": 52,
   "id": "08b3a71e-7e38-439d-ba90-5ca505ef06c1",
   "metadata": {},
   "outputs": [],
   "source": [
    "from matplotlib import rcParams\n",
    "\n",
    "rcParams['figure.figsize'] = 9, 4\n",
    "rcParams['lines.linewidth'] = 3\n",
    "rcParams['xtick.labelsize'] = 'x-large'\n",
    "rcParams['ytick.labelsize'] = 'x-large'"
   ]
  },
  {
   "cell_type": "code",
   "execution_count": 53,
   "id": "f0c4f559-aa06-45ed-b3d3-ddb103b99fad",
   "metadata": {},
   "outputs": [],
   "source": [
    "cats = ['Warehouse_block','Mode_of_Shipment','Product_importance','Gender']\n",
    "nums = ['Customer_care_calls','Customer_rating','Cost_of_the_Product',\n",
    "        'Prior_purchases','Discount_offered','Weight_in_gms','Reached.on.Time_Y.N']"
   ]
  },
  {
   "cell_type": "markdown",
   "id": "6c18dee3-8952-4f92-a61a-7034a3c202d8",
   "metadata": {},
   "source": [
    "# 1. DATA CLEANSING"
   ]
  },
  {
   "cell_type": "code",
   "execution_count": 55,
   "id": "abc65cb7-1b03-4fe5-aa27-f4230c029657",
   "metadata": {},
   "outputs": [],
   "source": [
    "df = pd.read_csv('Train.csv')\n",
    "df_awal = pd.read_csv('Train.csv')"
   ]
  },
  {
   "cell_type": "code",
   "execution_count": 29,
   "id": "5fdfcc70-9f88-4220-b189-b2145b451d08",
   "metadata": {},
   "outputs": [
    {
     "data": {
      "text/html": [
       "<div>\n",
       "<style scoped>\n",
       "    .dataframe tbody tr th:only-of-type {\n",
       "        vertical-align: middle;\n",
       "    }\n",
       "\n",
       "    .dataframe tbody tr th {\n",
       "        vertical-align: top;\n",
       "    }\n",
       "\n",
       "    .dataframe thead th {\n",
       "        text-align: right;\n",
       "    }\n",
       "</style>\n",
       "<table border=\"1\" class=\"dataframe\">\n",
       "  <thead>\n",
       "    <tr style=\"text-align: right;\">\n",
       "      <th></th>\n",
       "      <th>ID</th>\n",
       "      <th>Warehouse_block</th>\n",
       "      <th>Mode_of_Shipment</th>\n",
       "      <th>Customer_care_calls</th>\n",
       "      <th>Customer_rating</th>\n",
       "      <th>Cost_of_the_Product</th>\n",
       "      <th>Prior_purchases</th>\n",
       "      <th>Product_importance</th>\n",
       "      <th>Gender</th>\n",
       "      <th>Discount_offered</th>\n",
       "      <th>Weight_in_gms</th>\n",
       "      <th>Reached.on.Time_Y.N</th>\n",
       "    </tr>\n",
       "  </thead>\n",
       "  <tbody>\n",
       "    <tr>\n",
       "      <th>0</th>\n",
       "      <td>1</td>\n",
       "      <td>D</td>\n",
       "      <td>Flight</td>\n",
       "      <td>4</td>\n",
       "      <td>2</td>\n",
       "      <td>177</td>\n",
       "      <td>3</td>\n",
       "      <td>low</td>\n",
       "      <td>F</td>\n",
       "      <td>44</td>\n",
       "      <td>1233</td>\n",
       "      <td>1</td>\n",
       "    </tr>\n",
       "    <tr>\n",
       "      <th>1</th>\n",
       "      <td>2</td>\n",
       "      <td>F</td>\n",
       "      <td>Flight</td>\n",
       "      <td>4</td>\n",
       "      <td>5</td>\n",
       "      <td>216</td>\n",
       "      <td>2</td>\n",
       "      <td>low</td>\n",
       "      <td>M</td>\n",
       "      <td>59</td>\n",
       "      <td>3088</td>\n",
       "      <td>1</td>\n",
       "    </tr>\n",
       "    <tr>\n",
       "      <th>2</th>\n",
       "      <td>3</td>\n",
       "      <td>A</td>\n",
       "      <td>Flight</td>\n",
       "      <td>2</td>\n",
       "      <td>2</td>\n",
       "      <td>183</td>\n",
       "      <td>4</td>\n",
       "      <td>low</td>\n",
       "      <td>M</td>\n",
       "      <td>48</td>\n",
       "      <td>3374</td>\n",
       "      <td>1</td>\n",
       "    </tr>\n",
       "    <tr>\n",
       "      <th>3</th>\n",
       "      <td>4</td>\n",
       "      <td>B</td>\n",
       "      <td>Flight</td>\n",
       "      <td>3</td>\n",
       "      <td>3</td>\n",
       "      <td>176</td>\n",
       "      <td>4</td>\n",
       "      <td>medium</td>\n",
       "      <td>M</td>\n",
       "      <td>10</td>\n",
       "      <td>1177</td>\n",
       "      <td>1</td>\n",
       "    </tr>\n",
       "    <tr>\n",
       "      <th>4</th>\n",
       "      <td>5</td>\n",
       "      <td>C</td>\n",
       "      <td>Flight</td>\n",
       "      <td>2</td>\n",
       "      <td>2</td>\n",
       "      <td>184</td>\n",
       "      <td>3</td>\n",
       "      <td>medium</td>\n",
       "      <td>F</td>\n",
       "      <td>46</td>\n",
       "      <td>2484</td>\n",
       "      <td>1</td>\n",
       "    </tr>\n",
       "  </tbody>\n",
       "</table>\n",
       "</div>"
      ],
      "text/plain": [
       "   ID Warehouse_block Mode_of_Shipment  Customer_care_calls  Customer_rating  \\\n",
       "0   1               D           Flight                    4                2   \n",
       "1   2               F           Flight                    4                5   \n",
       "2   3               A           Flight                    2                2   \n",
       "3   4               B           Flight                    3                3   \n",
       "4   5               C           Flight                    2                2   \n",
       "\n",
       "   Cost_of_the_Product  Prior_purchases Product_importance Gender  \\\n",
       "0                  177                3                low      F   \n",
       "1                  216                2                low      M   \n",
       "2                  183                4                low      M   \n",
       "3                  176                4             medium      M   \n",
       "4                  184                3             medium      F   \n",
       "\n",
       "   Discount_offered  Weight_in_gms  Reached.on.Time_Y.N  \n",
       "0                44           1233                    1  \n",
       "1                59           3088                    1  \n",
       "2                48           3374                    1  \n",
       "3                10           1177                    1  \n",
       "4                46           2484                    1  "
      ]
     },
     "execution_count": 29,
     "metadata": {},
     "output_type": "execute_result"
    }
   ],
   "source": [
    "df.head()"
   ]
  },
  {
   "cell_type": "code",
   "execution_count": 30,
   "id": "a60946ea-3064-4dd3-9c02-dee349cc9e1d",
   "metadata": {},
   "outputs": [
    {
     "data": {
      "text/html": [
       "<div>\n",
       "<style scoped>\n",
       "    .dataframe tbody tr th:only-of-type {\n",
       "        vertical-align: middle;\n",
       "    }\n",
       "\n",
       "    .dataframe tbody tr th {\n",
       "        vertical-align: top;\n",
       "    }\n",
       "\n",
       "    .dataframe thead th {\n",
       "        text-align: right;\n",
       "    }\n",
       "</style>\n",
       "<table border=\"1\" class=\"dataframe\">\n",
       "  <thead>\n",
       "    <tr style=\"text-align: right;\">\n",
       "      <th></th>\n",
       "      <th>ID</th>\n",
       "      <th>Warehouse_block</th>\n",
       "      <th>Mode_of_Shipment</th>\n",
       "      <th>Customer_care_calls</th>\n",
       "      <th>Customer_rating</th>\n",
       "      <th>Cost_of_the_Product</th>\n",
       "      <th>Prior_purchases</th>\n",
       "      <th>Product_importance</th>\n",
       "      <th>Gender</th>\n",
       "      <th>Discount_offered</th>\n",
       "      <th>Weight_in_gms</th>\n",
       "      <th>Reached.on.Time_Y.N</th>\n",
       "    </tr>\n",
       "  </thead>\n",
       "  <tbody>\n",
       "    <tr>\n",
       "      <th>6069</th>\n",
       "      <td>6070</td>\n",
       "      <td>B</td>\n",
       "      <td>Ship</td>\n",
       "      <td>3</td>\n",
       "      <td>4</td>\n",
       "      <td>156</td>\n",
       "      <td>2</td>\n",
       "      <td>medium</td>\n",
       "      <td>F</td>\n",
       "      <td>10</td>\n",
       "      <td>5107</td>\n",
       "      <td>1</td>\n",
       "    </tr>\n",
       "    <tr>\n",
       "      <th>7867</th>\n",
       "      <td>7868</td>\n",
       "      <td>F</td>\n",
       "      <td>Ship</td>\n",
       "      <td>4</td>\n",
       "      <td>3</td>\n",
       "      <td>213</td>\n",
       "      <td>3</td>\n",
       "      <td>medium</td>\n",
       "      <td>M</td>\n",
       "      <td>4</td>\n",
       "      <td>4367</td>\n",
       "      <td>0</td>\n",
       "    </tr>\n",
       "    <tr>\n",
       "      <th>5163</th>\n",
       "      <td>5164</td>\n",
       "      <td>B</td>\n",
       "      <td>Ship</td>\n",
       "      <td>4</td>\n",
       "      <td>5</td>\n",
       "      <td>154</td>\n",
       "      <td>3</td>\n",
       "      <td>medium</td>\n",
       "      <td>F</td>\n",
       "      <td>9</td>\n",
       "      <td>5489</td>\n",
       "      <td>1</td>\n",
       "    </tr>\n",
       "    <tr>\n",
       "      <th>9097</th>\n",
       "      <td>9098</td>\n",
       "      <td>F</td>\n",
       "      <td>Ship</td>\n",
       "      <td>4</td>\n",
       "      <td>2</td>\n",
       "      <td>231</td>\n",
       "      <td>5</td>\n",
       "      <td>medium</td>\n",
       "      <td>M</td>\n",
       "      <td>8</td>\n",
       "      <td>1562</td>\n",
       "      <td>0</td>\n",
       "    </tr>\n",
       "    <tr>\n",
       "      <th>10247</th>\n",
       "      <td>10248</td>\n",
       "      <td>F</td>\n",
       "      <td>Ship</td>\n",
       "      <td>4</td>\n",
       "      <td>3</td>\n",
       "      <td>195</td>\n",
       "      <td>3</td>\n",
       "      <td>medium</td>\n",
       "      <td>M</td>\n",
       "      <td>5</td>\n",
       "      <td>5863</td>\n",
       "      <td>0</td>\n",
       "    </tr>\n",
       "  </tbody>\n",
       "</table>\n",
       "</div>"
      ],
      "text/plain": [
       "          ID Warehouse_block Mode_of_Shipment  Customer_care_calls  \\\n",
       "6069    6070               B             Ship                    3   \n",
       "7867    7868               F             Ship                    4   \n",
       "5163    5164               B             Ship                    4   \n",
       "9097    9098               F             Ship                    4   \n",
       "10247  10248               F             Ship                    4   \n",
       "\n",
       "       Customer_rating  Cost_of_the_Product  Prior_purchases  \\\n",
       "6069                 4                  156                2   \n",
       "7867                 3                  213                3   \n",
       "5163                 5                  154                3   \n",
       "9097                 2                  231                5   \n",
       "10247                3                  195                3   \n",
       "\n",
       "      Product_importance Gender  Discount_offered  Weight_in_gms  \\\n",
       "6069              medium      F                10           5107   \n",
       "7867              medium      M                 4           4367   \n",
       "5163              medium      F                 9           5489   \n",
       "9097              medium      M                 8           1562   \n",
       "10247             medium      M                 5           5863   \n",
       "\n",
       "       Reached.on.Time_Y.N  \n",
       "6069                     1  \n",
       "7867                     0  \n",
       "5163                     1  \n",
       "9097                     0  \n",
       "10247                    0  "
      ]
     },
     "execution_count": 30,
     "metadata": {},
     "output_type": "execute_result"
    }
   ],
   "source": [
    "df.sample(5)"
   ]
  },
  {
   "cell_type": "markdown",
   "id": "ca345b77-efa2-4408-8b3f-b3db3c5259f5",
   "metadata": {},
   "source": [
    "## A. Handle Missing Values"
   ]
  },
  {
   "cell_type": "code",
   "execution_count": 31,
   "id": "ca1ff097-0dde-4157-bd3e-7e95e91af6ef",
   "metadata": {},
   "outputs": [
    {
     "data": {
      "text/plain": [
       "ID                     0\n",
       "Warehouse_block        0\n",
       "Mode_of_Shipment       0\n",
       "Customer_care_calls    0\n",
       "Customer_rating        0\n",
       "Cost_of_the_Product    0\n",
       "Prior_purchases        0\n",
       "Product_importance     0\n",
       "Gender                 0\n",
       "Discount_offered       0\n",
       "Weight_in_gms          0\n",
       "Reached.on.Time_Y.N    0\n",
       "dtype: int64"
      ]
     },
     "execution_count": 31,
     "metadata": {},
     "output_type": "execute_result"
    }
   ],
   "source": [
    "df.isna().sum()"
   ]
  },
  {
   "cell_type": "code",
   "execution_count": 32,
   "id": "3b3acc8d-36d0-4048-974d-d37048af5fca",
   "metadata": {},
   "outputs": [
    {
     "name": "stdout",
     "output_type": "stream",
     "text": [
      "<class 'pandas.core.frame.DataFrame'>\n",
      "RangeIndex: 10999 entries, 0 to 10998\n",
      "Data columns (total 12 columns):\n",
      " #   Column               Non-Null Count  Dtype \n",
      "---  ------               --------------  ----- \n",
      " 0   ID                   10999 non-null  int64 \n",
      " 1   Warehouse_block      10999 non-null  object\n",
      " 2   Mode_of_Shipment     10999 non-null  object\n",
      " 3   Customer_care_calls  10999 non-null  int64 \n",
      " 4   Customer_rating      10999 non-null  int64 \n",
      " 5   Cost_of_the_Product  10999 non-null  int64 \n",
      " 6   Prior_purchases      10999 non-null  int64 \n",
      " 7   Product_importance   10999 non-null  object\n",
      " 8   Gender               10999 non-null  object\n",
      " 9   Discount_offered     10999 non-null  int64 \n",
      " 10  Weight_in_gms        10999 non-null  int64 \n",
      " 11  Reached.on.Time_Y.N  10999 non-null  int64 \n",
      "dtypes: int64(8), object(4)\n",
      "memory usage: 1.0+ MB\n"
     ]
    }
   ],
   "source": [
    "df.info()"
   ]
  },
  {
   "cell_type": "markdown",
   "id": "39bbc400-625d-4d81-940f-cb149f15660e",
   "metadata": {},
   "source": [
    "Tidak ada missing values"
   ]
  },
  {
   "cell_type": "markdown",
   "id": "e81d4b8d-038b-471c-86fb-d9d0303c8397",
   "metadata": {},
   "source": [
    "## B. Handle Duplicated Data"
   ]
  },
  {
   "cell_type": "code",
   "execution_count": 33,
   "id": "0ecd5fc2-165a-4028-9b49-ef4f5b36a1ec",
   "metadata": {},
   "outputs": [
    {
     "data": {
      "text/plain": [
       "0"
      ]
     },
     "execution_count": 33,
     "metadata": {},
     "output_type": "execute_result"
    }
   ],
   "source": [
    "df[nums].duplicated().sum()"
   ]
  },
  {
   "cell_type": "markdown",
   "id": "3a49eec6-0691-4d85-91c8-84706df191c7",
   "metadata": {},
   "source": [
    "Tidak ada data yang duplicated"
   ]
  },
  {
   "cell_type": "markdown",
   "id": "7ce7365f-448b-4ce0-b22f-6e9f8b12b6fd",
   "metadata": {
    "tags": []
   },
   "source": [
    "## C. Handle Outliers"
   ]
  },
  {
   "cell_type": "code",
   "execution_count": 34,
   "id": "9f114a16-2c1d-40e2-8d54-cde528cd6ff2",
   "metadata": {},
   "outputs": [
    {
     "data": {
      "image/png": "[encoded data removed]",
      "text/plain": [
       "<Figure size 648x288 with 7 Axes>"
      ]
     },
     "metadata": {
      "needs_background": "light"
     },
     "output_type": "display_data"
    }
   ],
   "source": [
    "for i in range(0, len(nums)):\n",
    "    plt.subplot(1, len(nums), i+1)\n",
    "    sns.boxplot(y=df[nums[i]], orient='v')\n",
    "    plt.tight_layout()\n",
    "    plt.savefig('boxplot_outlier1')"
   ]
  },
  {
   "cell_type": "markdown",
   "id": "edf43554-b7ef-4b86-8009-e841d1b73dd7",
   "metadata": {},
   "source": [
    "<h2>Terdapat Outlier pada Features Prior Purchases dan Discount Offered. Maka akan dilakukan penghapusan outlier dengan menggunakan IQR</h2>"
   ]
  },
  {
   "cell_type": "code",
   "execution_count": 35,
   "id": "8202776f-2455-4d84-ba53-2a8988c85131",
   "metadata": {},
   "outputs": [
    {
     "name": "stdout",
     "output_type": "stream",
     "text": [
      "Jumlah baris sebelum memfilter outlier: 10999\n",
      "Jumlah baris setelah memfilter outlier: 7971\n"
     ]
    }
   ],
   "source": [
    "print(f'Jumlah baris sebelum memfilter outlier: {len(df)}')\n",
    "filtered_entries = np.array([True] * len(df))\n",
    "for col in ['Prior_purchases','Discount_offered']:\n",
    "    Q1 = df[col].quantile(0.25)\n",
    "    Q3 = df[col].quantile(0.75)\n",
    "    IQR = Q3 - Q1\n",
    "    low_limit = Q1 - (IQR * 1.5)\n",
    "    high_limit = Q3 + (IQR * 1.5)\n",
    "\n",
    "    filtered_entries = ((df[col] >= low_limit) & (df[col] <= high_limit)) & filtered_entries\n",
    "    \n",
    "df = df[filtered_entries]\n",
    "\n",
    "print(f'Jumlah baris setelah memfilter outlier: {len(df)}')"
   ]
  },
  {
   "cell_type": "code",
   "execution_count": 36,
   "id": "383f3c4e-d551-46f2-b547-321c2b223de0",
   "metadata": {},
   "outputs": [
    {
     "data": {
      "image/png": "[encoded data removed]",
      "text/plain": [
       "<Figure size 648x288 with 7 Axes>"
      ]
     },
     "metadata": {
      "needs_background": "light"
     },
     "output_type": "display_data"
    }
   ],
   "source": [
    "for i in range(0, len(nums)):\n",
    "    plt.subplot(1, len(nums), i+1)\n",
    "    sns.boxplot(y=df[nums[i]], orient='v')\n",
    "    plt.tight_layout()\n",
    "    plt.savefig('boxplot_outlier2')"
   ]
  },
  {
   "cell_type": "markdown",
   "id": "8acf7a84-c059-4ed2-88e6-6b937be9db9a",
   "metadata": {},
   "source": [
    "<h3> Setelah dilakukan hapus outlier dengan IQR masih terdapat outlier di Discount offered maka akan dilakukan Feature Transformation agar persebaran mendekati normal</h3>"
   ]
  },
  {
   "cell_type": "markdown",
   "id": "0089cf05-b95f-4469-8a44-545f3d880a59",
   "metadata": {},
   "source": [
    "## D. Feature Transformation"
   ]
  },
  {
   "cell_type": "code",
   "execution_count": 37,
   "id": "c197bbe5-c2af-43c0-8eb2-8df88499bd9b",
   "metadata": {},
   "outputs": [
    {
     "data": {
      "text/plain": [
       "<AxesSubplot:xlabel='Discount_offered', ylabel='Density'>"
      ]
     },
     "execution_count": 37,
     "metadata": {},
     "output_type": "execute_result"
    },
    {
     "data": {
      "image/png": "[encoded data removed]",
      "text/plain": [
       "<Figure size 648x288 with 1 Axes>"
      ]
     },
     "metadata": {
      "needs_background": "light"
     },
     "output_type": "display_data"
    }
   ],
   "source": [
    "sns.kdeplot(df['Discount_offered'])"
   ]
  },
  {
   "cell_type": "code",
   "execution_count": 38,
   "id": "d627661e-1e5c-4ac8-ba17-4a11d205a423",
   "metadata": {},
   "outputs": [
    {
     "data": {
      "text/plain": [
       "<AxesSubplot:xlabel='Discount_offered', ylabel='Density'>"
      ]
     },
     "execution_count": 38,
     "metadata": {},
     "output_type": "execute_result"
    },
    {
     "data": {
      "image/png": "[encoded data removed]",
      "text/plain": [
       "<Figure size 648x288 with 1 Axes>"
      ]
     },
     "metadata": {
      "needs_background": "light"
     },
     "output_type": "display_data"
    }
   ],
   "source": [
    "sns.kdeplot(np.log(df['Discount_offered']))"
   ]
  },
  {
   "cell_type": "markdown",
   "id": "e6c9f750-f3a2-4720-a118-68d9f2eb1675",
   "metadata": {},
   "source": [
    "<h3>Setelah di Log Transformation</h3>"
   ]
  },
  {
   "cell_type": "code",
   "execution_count": 39,
   "id": "5e3b2a08-a6ac-4bcc-b314-01277d4b358b",
   "metadata": {},
   "outputs": [
    {
     "data": {
      "text/html": [
       "<div>\n",
       "<style scoped>\n",
       "    .dataframe tbody tr th:only-of-type {\n",
       "        vertical-align: middle;\n",
       "    }\n",
       "\n",
       "    .dataframe tbody tr th {\n",
       "        vertical-align: top;\n",
       "    }\n",
       "\n",
       "    .dataframe thead th {\n",
       "        text-align: right;\n",
       "    }\n",
       "</style>\n",
       "<table border=\"1\" class=\"dataframe\">\n",
       "  <thead>\n",
       "    <tr style=\"text-align: right;\">\n",
       "      <th></th>\n",
       "      <th>Discount_offered</th>\n",
       "      <th>Log_Discount_offered</th>\n",
       "    </tr>\n",
       "  </thead>\n",
       "  <tbody>\n",
       "    <tr>\n",
       "      <th>count</th>\n",
       "      <td>7971.000000</td>\n",
       "      <td>7971.000000</td>\n",
       "    </tr>\n",
       "    <tr>\n",
       "      <th>mean</th>\n",
       "      <td>5.986953</td>\n",
       "      <td>1.571069</td>\n",
       "    </tr>\n",
       "    <tr>\n",
       "      <th>std</th>\n",
       "      <td>3.547644</td>\n",
       "      <td>0.726226</td>\n",
       "    </tr>\n",
       "    <tr>\n",
       "      <th>min</th>\n",
       "      <td>1.000000</td>\n",
       "      <td>0.000000</td>\n",
       "    </tr>\n",
       "    <tr>\n",
       "      <th>25%</th>\n",
       "      <td>3.000000</td>\n",
       "      <td>1.098612</td>\n",
       "    </tr>\n",
       "    <tr>\n",
       "      <th>50%</th>\n",
       "      <td>6.000000</td>\n",
       "      <td>1.791759</td>\n",
       "    </tr>\n",
       "    <tr>\n",
       "      <th>75%</th>\n",
       "      <td>8.000000</td>\n",
       "      <td>2.079442</td>\n",
       "    </tr>\n",
       "    <tr>\n",
       "      <th>max</th>\n",
       "      <td>19.000000</td>\n",
       "      <td>2.944439</td>\n",
       "    </tr>\n",
       "  </tbody>\n",
       "</table>\n",
       "</div>"
      ],
      "text/plain": [
       "       Discount_offered  Log_Discount_offered\n",
       "count       7971.000000           7971.000000\n",
       "mean           5.986953              1.571069\n",
       "std            3.547644              0.726226\n",
       "min            1.000000              0.000000\n",
       "25%            3.000000              1.098612\n",
       "50%            6.000000              1.791759\n",
       "75%            8.000000              2.079442\n",
       "max           19.000000              2.944439"
      ]
     },
     "execution_count": 39,
     "metadata": {},
     "output_type": "execute_result"
    }
   ],
   "source": [
    "df['Log_Discount_offered'] = np.log(df['Discount_offered'])\n",
    "df[['Discount_offered','Log_Discount_offered']].describe()"
   ]
  },
  {
   "cell_type": "markdown",
   "id": "0b826d1b-a73f-430c-b568-f4cc70a1e6fb",
   "metadata": {},
   "source": [
    "Menunjukkan perbedaan Discount_offered sebelum dan setelah di Log Transformation"
   ]
  },
  {
   "cell_type": "markdown",
   "id": "7886b92f-1d69-4347-bff0-fe2e677ec663",
   "metadata": {},
   "source": [
    "## E. Feature Encoding"
   ]
  },
  {
   "cell_type": "markdown",
   "id": "d9f06c63-bc7b-4ab3-bde5-b3dd005307c8",
   "metadata": {},
   "source": [
    "Terdapat 4 Feature yang akan di Encoding yaitu\n",
    "    <br>1. Warehouse_block\n",
    "    <br>2. Mode_of_Shipment\n",
    "    <br>3. Product_importance\n",
    "    <br>4. Gender\n",
    "    "
   ]
  },
  {
   "cell_type": "code",
   "execution_count": 40,
   "id": "be8b7785-6a12-4f5f-978c-4dbdc94bd67d",
   "metadata": {},
   "outputs": [
    {
     "data": {
      "text/html": [
       "<div>\n",
       "<style scoped>\n",
       "    .dataframe tbody tr th:only-of-type {\n",
       "        vertical-align: middle;\n",
       "    }\n",
       "\n",
       "    .dataframe tbody tr th {\n",
       "        vertical-align: top;\n",
       "    }\n",
       "\n",
       "    .dataframe thead th {\n",
       "        text-align: right;\n",
       "    }\n",
       "</style>\n",
       "<table border=\"1\" class=\"dataframe\">\n",
       "  <thead>\n",
       "    <tr style=\"text-align: right;\">\n",
       "      <th></th>\n",
       "      <th>ID</th>\n",
       "      <th>Warehouse_block</th>\n",
       "      <th>Mode_of_Shipment</th>\n",
       "      <th>Customer_care_calls</th>\n",
       "      <th>Customer_rating</th>\n",
       "      <th>Cost_of_the_Product</th>\n",
       "      <th>Prior_purchases</th>\n",
       "      <th>Product_importance</th>\n",
       "      <th>Gender</th>\n",
       "      <th>Discount_offered</th>\n",
       "      <th>Weight_in_gms</th>\n",
       "      <th>Reached.on.Time_Y.N</th>\n",
       "      <th>Log_Discount_offered</th>\n",
       "    </tr>\n",
       "  </thead>\n",
       "  <tbody>\n",
       "    <tr>\n",
       "      <th>3</th>\n",
       "      <td>4</td>\n",
       "      <td>B</td>\n",
       "      <td>Flight</td>\n",
       "      <td>3</td>\n",
       "      <td>3</td>\n",
       "      <td>176</td>\n",
       "      <td>4</td>\n",
       "      <td>medium</td>\n",
       "      <td>1</td>\n",
       "      <td>10</td>\n",
       "      <td>1177</td>\n",
       "      <td>1</td>\n",
       "      <td>2.302585</td>\n",
       "    </tr>\n",
       "    <tr>\n",
       "      <th>5</th>\n",
       "      <td>6</td>\n",
       "      <td>F</td>\n",
       "      <td>Flight</td>\n",
       "      <td>3</td>\n",
       "      <td>1</td>\n",
       "      <td>162</td>\n",
       "      <td>3</td>\n",
       "      <td>medium</td>\n",
       "      <td>0</td>\n",
       "      <td>12</td>\n",
       "      <td>1417</td>\n",
       "      <td>1</td>\n",
       "      <td>2.484907</td>\n",
       "    </tr>\n",
       "    <tr>\n",
       "      <th>6</th>\n",
       "      <td>7</td>\n",
       "      <td>D</td>\n",
       "      <td>Flight</td>\n",
       "      <td>3</td>\n",
       "      <td>4</td>\n",
       "      <td>250</td>\n",
       "      <td>3</td>\n",
       "      <td>low</td>\n",
       "      <td>0</td>\n",
       "      <td>3</td>\n",
       "      <td>2371</td>\n",
       "      <td>1</td>\n",
       "      <td>1.098612</td>\n",
       "    </tr>\n",
       "    <tr>\n",
       "      <th>8</th>\n",
       "      <td>9</td>\n",
       "      <td>A</td>\n",
       "      <td>Flight</td>\n",
       "      <td>3</td>\n",
       "      <td>4</td>\n",
       "      <td>150</td>\n",
       "      <td>3</td>\n",
       "      <td>low</td>\n",
       "      <td>0</td>\n",
       "      <td>11</td>\n",
       "      <td>1861</td>\n",
       "      <td>1</td>\n",
       "      <td>2.397895</td>\n",
       "    </tr>\n",
       "    <tr>\n",
       "      <th>10</th>\n",
       "      <td>11</td>\n",
       "      <td>C</td>\n",
       "      <td>Flight</td>\n",
       "      <td>3</td>\n",
       "      <td>4</td>\n",
       "      <td>189</td>\n",
       "      <td>2</td>\n",
       "      <td>medium</td>\n",
       "      <td>1</td>\n",
       "      <td>12</td>\n",
       "      <td>2888</td>\n",
       "      <td>1</td>\n",
       "      <td>2.484907</td>\n",
       "    </tr>\n",
       "  </tbody>\n",
       "</table>\n",
       "</div>"
      ],
      "text/plain": [
       "    ID Warehouse_block Mode_of_Shipment  Customer_care_calls  Customer_rating  \\\n",
       "3    4               B           Flight                    3                3   \n",
       "5    6               F           Flight                    3                1   \n",
       "6    7               D           Flight                    3                4   \n",
       "8    9               A           Flight                    3                4   \n",
       "10  11               C           Flight                    3                4   \n",
       "\n",
       "    Cost_of_the_Product  Prior_purchases Product_importance  Gender  \\\n",
       "3                   176                4             medium       1   \n",
       "5                   162                3             medium       0   \n",
       "6                   250                3                low       0   \n",
       "8                   150                3                low       0   \n",
       "10                  189                2             medium       1   \n",
       "\n",
       "    Discount_offered  Weight_in_gms  Reached.on.Time_Y.N  Log_Discount_offered  \n",
       "3                 10           1177                    1              2.302585  \n",
       "5                 12           1417                    1              2.484907  \n",
       "6                  3           2371                    1              1.098612  \n",
       "8                 11           1861                    1              2.397895  \n",
       "10                12           2888                    1              2.484907  "
      ]
     },
     "execution_count": 40,
     "metadata": {},
     "output_type": "execute_result"
    }
   ],
   "source": [
    "df['Gender'] = df['Gender'].astype('category').cat.codes\n",
    "df.head()"
   ]
  },
  {
   "cell_type": "markdown",
   "id": "8c598503-afbd-4b76-8f39-a619cc99e237",
   "metadata": {},
   "source": [
    "<h3>Untuk Gender menggunakan Label Encorder karena jumlah distinct values = 2. </h3>"
   ]
  },
  {
   "cell_type": "code",
   "execution_count": 41,
   "id": "b84e74ee-52bd-47ff-8dba-e927055db333",
   "metadata": {},
   "outputs": [],
   "source": [
    "for cat in ['Warehouse_block','Mode_of_Shipment','Product_importance']:\n",
    "  onehots = pd.get_dummies(df[cat], prefix=cat)\n",
    "  df = df.join(onehots)"
   ]
  },
  {
   "cell_type": "code",
   "execution_count": 42,
   "id": "96998eb1-96d4-46ab-947b-dbeb22859efa",
   "metadata": {},
   "outputs": [
    {
     "data": {
      "text/html": [
       "<div>\n",
       "<style scoped>\n",
       "    .dataframe tbody tr th:only-of-type {\n",
       "        vertical-align: middle;\n",
       "    }\n",
       "\n",
       "    .dataframe tbody tr th {\n",
       "        vertical-align: top;\n",
       "    }\n",
       "\n",
       "    .dataframe thead th {\n",
       "        text-align: right;\n",
       "    }\n",
       "</style>\n",
       "<table border=\"1\" class=\"dataframe\">\n",
       "  <thead>\n",
       "    <tr style=\"text-align: right;\">\n",
       "      <th></th>\n",
       "      <th>ID</th>\n",
       "      <th>Warehouse_block</th>\n",
       "      <th>Mode_of_Shipment</th>\n",
       "      <th>Customer_care_calls</th>\n",
       "      <th>Customer_rating</th>\n",
       "      <th>Cost_of_the_Product</th>\n",
       "      <th>Prior_purchases</th>\n",
       "      <th>Product_importance</th>\n",
       "      <th>Gender</th>\n",
       "      <th>Discount_offered</th>\n",
       "      <th>...</th>\n",
       "      <th>Warehouse_block_B</th>\n",
       "      <th>Warehouse_block_C</th>\n",
       "      <th>Warehouse_block_D</th>\n",
       "      <th>Warehouse_block_F</th>\n",
       "      <th>Mode_of_Shipment_Flight</th>\n",
       "      <th>Mode_of_Shipment_Road</th>\n",
       "      <th>Mode_of_Shipment_Ship</th>\n",
       "      <th>Product_importance_high</th>\n",
       "      <th>Product_importance_low</th>\n",
       "      <th>Product_importance_medium</th>\n",
       "    </tr>\n",
       "  </thead>\n",
       "  <tbody>\n",
       "    <tr>\n",
       "      <th>3</th>\n",
       "      <td>4</td>\n",
       "      <td>B</td>\n",
       "      <td>Flight</td>\n",
       "      <td>3</td>\n",
       "      <td>3</td>\n",
       "      <td>176</td>\n",
       "      <td>4</td>\n",
       "      <td>medium</td>\n",
       "      <td>1</td>\n",
       "      <td>10</td>\n",
       "      <td>...</td>\n",
       "      <td>1</td>\n",
       "      <td>0</td>\n",
       "      <td>0</td>\n",
       "      <td>0</td>\n",
       "      <td>1</td>\n",
       "      <td>0</td>\n",
       "      <td>0</td>\n",
       "      <td>0</td>\n",
       "      <td>0</td>\n",
       "      <td>1</td>\n",
       "    </tr>\n",
       "    <tr>\n",
       "      <th>5</th>\n",
       "      <td>6</td>\n",
       "      <td>F</td>\n",
       "      <td>Flight</td>\n",
       "      <td>3</td>\n",
       "      <td>1</td>\n",
       "      <td>162</td>\n",
       "      <td>3</td>\n",
       "      <td>medium</td>\n",
       "      <td>0</td>\n",
       "      <td>12</td>\n",
       "      <td>...</td>\n",
       "      <td>0</td>\n",
       "      <td>0</td>\n",
       "      <td>0</td>\n",
       "      <td>1</td>\n",
       "      <td>1</td>\n",
       "      <td>0</td>\n",
       "      <td>0</td>\n",
       "      <td>0</td>\n",
       "      <td>0</td>\n",
       "      <td>1</td>\n",
       "    </tr>\n",
       "    <tr>\n",
       "      <th>6</th>\n",
       "      <td>7</td>\n",
       "      <td>D</td>\n",
       "      <td>Flight</td>\n",
       "      <td>3</td>\n",
       "      <td>4</td>\n",
       "      <td>250</td>\n",
       "      <td>3</td>\n",
       "      <td>low</td>\n",
       "      <td>0</td>\n",
       "      <td>3</td>\n",
       "      <td>...</td>\n",
       "      <td>0</td>\n",
       "      <td>0</td>\n",
       "      <td>1</td>\n",
       "      <td>0</td>\n",
       "      <td>1</td>\n",
       "      <td>0</td>\n",
       "      <td>0</td>\n",
       "      <td>0</td>\n",
       "      <td>1</td>\n",
       "      <td>0</td>\n",
       "    </tr>\n",
       "    <tr>\n",
       "      <th>8</th>\n",
       "      <td>9</td>\n",
       "      <td>A</td>\n",
       "      <td>Flight</td>\n",
       "      <td>3</td>\n",
       "      <td>4</td>\n",
       "      <td>150</td>\n",
       "      <td>3</td>\n",
       "      <td>low</td>\n",
       "      <td>0</td>\n",
       "      <td>11</td>\n",
       "      <td>...</td>\n",
       "      <td>0</td>\n",
       "      <td>0</td>\n",
       "      <td>0</td>\n",
       "      <td>0</td>\n",
       "      <td>1</td>\n",
       "      <td>0</td>\n",
       "      <td>0</td>\n",
       "      <td>0</td>\n",
       "      <td>1</td>\n",
       "      <td>0</td>\n",
       "    </tr>\n",
       "    <tr>\n",
       "      <th>10</th>\n",
       "      <td>11</td>\n",
       "      <td>C</td>\n",
       "      <td>Flight</td>\n",
       "      <td>3</td>\n",
       "      <td>4</td>\n",
       "      <td>189</td>\n",
       "      <td>2</td>\n",
       "      <td>medium</td>\n",
       "      <td>1</td>\n",
       "      <td>12</td>\n",
       "      <td>...</td>\n",
       "      <td>0</td>\n",
       "      <td>1</td>\n",
       "      <td>0</td>\n",
       "      <td>0</td>\n",
       "      <td>1</td>\n",
       "      <td>0</td>\n",
       "      <td>0</td>\n",
       "      <td>0</td>\n",
       "      <td>0</td>\n",
       "      <td>1</td>\n",
       "    </tr>\n",
       "  </tbody>\n",
       "</table>\n",
       "<p>5 rows × 24 columns</p>\n",
       "</div>"
      ],
      "text/plain": [
       "    ID Warehouse_block Mode_of_Shipment  Customer_care_calls  Customer_rating  \\\n",
       "3    4               B           Flight                    3                3   \n",
       "5    6               F           Flight                    3                1   \n",
       "6    7               D           Flight                    3                4   \n",
       "8    9               A           Flight                    3                4   \n",
       "10  11               C           Flight                    3                4   \n",
       "\n",
       "    Cost_of_the_Product  Prior_purchases Product_importance  Gender  \\\n",
       "3                   176                4             medium       1   \n",
       "5                   162                3             medium       0   \n",
       "6                   250                3                low       0   \n",
       "8                   150                3                low       0   \n",
       "10                  189                2             medium       1   \n",
       "\n",
       "    Discount_offered  ...  Warehouse_block_B  Warehouse_block_C  \\\n",
       "3                 10  ...                  1                  0   \n",
       "5                 12  ...                  0                  0   \n",
       "6                  3  ...                  0                  0   \n",
       "8                 11  ...                  0                  0   \n",
       "10                12  ...                  0                  1   \n",
       "\n",
       "    Warehouse_block_D  Warehouse_block_F  Mode_of_Shipment_Flight  \\\n",
       "3                   0                  0                        1   \n",
       "5                   0                  1                        1   \n",
       "6                   1                  0                        1   \n",
       "8                   0                  0                        1   \n",
       "10                  0                  0                        1   \n",
       "\n",
       "    Mode_of_Shipment_Road  Mode_of_Shipment_Ship  Product_importance_high  \\\n",
       "3                       0                      0                        0   \n",
       "5                       0                      0                        0   \n",
       "6                       0                      0                        0   \n",
       "8                       0                      0                        0   \n",
       "10                      0                      0                        0   \n",
       "\n",
       "    Product_importance_low  Product_importance_medium  \n",
       "3                        0                          1  \n",
       "5                        0                          1  \n",
       "6                        1                          0  \n",
       "8                        1                          0  \n",
       "10                       0                          1  \n",
       "\n",
       "[5 rows x 24 columns]"
      ]
     },
     "execution_count": 42,
     "metadata": {},
     "output_type": "execute_result"
    }
   ],
   "source": [
    "df.head()"
   ]
  },
  {
   "cell_type": "markdown",
   "id": "fbd1a33e-266b-4cc0-90eb-1a857a365e99",
   "metadata": {},
   "source": [
    "<h3>Warehouse_block, Mode_of_Shipment,Product_importance menggunakan One Hot Encoder karena jumlah distinct  > 2 dan cocok untuk fitur non-hierarki di mana tidak ada hubungan antara satu variabel dengan variabel lainnya</h3>"
   ]
  },
  {
   "cell_type": "code",
   "execution_count": 43,
   "id": "090808d4-ed61-44a4-ac47-76571358acde",
   "metadata": {},
   "outputs": [
    {
     "name": "stdout",
     "output_type": "stream",
     "text": [
      "<class 'pandas.core.frame.DataFrame'>\n",
      "Int64Index: 7971 entries, 3 to 10998\n",
      "Data columns (total 24 columns):\n",
      " #   Column                     Non-Null Count  Dtype  \n",
      "---  ------                     --------------  -----  \n",
      " 0   ID                         7971 non-null   int64  \n",
      " 1   Warehouse_block            7971 non-null   object \n",
      " 2   Mode_of_Shipment           7971 non-null   object \n",
      " 3   Customer_care_calls        7971 non-null   int64  \n",
      " 4   Customer_rating            7971 non-null   int64  \n",
      " 5   Cost_of_the_Product        7971 non-null   int64  \n",
      " 6   Prior_purchases            7971 non-null   int64  \n",
      " 7   Product_importance         7971 non-null   object \n",
      " 8   Gender                     7971 non-null   int8   \n",
      " 9   Discount_offered           7971 non-null   int64  \n",
      " 10  Weight_in_gms              7971 non-null   int64  \n",
      " 11  Reached.on.Time_Y.N        7971 non-null   int64  \n",
      " 12  Log_Discount_offered       7971 non-null   float64\n",
      " 13  Warehouse_block_A          7971 non-null   uint8  \n",
      " 14  Warehouse_block_B          7971 non-null   uint8  \n",
      " 15  Warehouse_block_C          7971 non-null   uint8  \n",
      " 16  Warehouse_block_D          7971 non-null   uint8  \n",
      " 17  Warehouse_block_F          7971 non-null   uint8  \n",
      " 18  Mode_of_Shipment_Flight    7971 non-null   uint8  \n",
      " 19  Mode_of_Shipment_Road      7971 non-null   uint8  \n",
      " 20  Mode_of_Shipment_Ship      7971 non-null   uint8  \n",
      " 21  Product_importance_high    7971 non-null   uint8  \n",
      " 22  Product_importance_low     7971 non-null   uint8  \n",
      " 23  Product_importance_medium  7971 non-null   uint8  \n",
      "dtypes: float64(1), int64(8), int8(1), object(3), uint8(11)\n",
      "memory usage: 1.1+ MB\n"
     ]
    }
   ],
   "source": [
    "df.info()"
   ]
  },
  {
   "cell_type": "markdown",
   "id": "67d40356-3859-4818-b921-efcdecfdf52d",
   "metadata": {},
   "source": [
    "## F. Handle Class Imbalance"
   ]
  },
  {
   "cell_type": "code",
   "execution_count": 44,
   "id": "ce647102-7493-4005-9d21-55ee391685cc",
   "metadata": {},
   "outputs": [
    {
     "data": {
      "text/plain": [
       "<AxesSubplot:ylabel='Reached.on.Time_Y.N'>"
      ]
     },
     "execution_count": 44,
     "metadata": {},
     "output_type": "execute_result"
    },
    {
     "data": {
      "image/png": "[encoded data removed]",
      "text/plain": [
       "<Figure size 648x288 with 1 Axes>"
      ]
     },
     "metadata": {},
     "output_type": "display_data"
    }
   ],
   "source": [
    "df['Reached.on.Time_Y.N'].value_counts().plot(kind='pie',autopct='%1.1f%%')"
   ]
  },
  {
   "cell_type": "markdown",
   "id": "82f1610e-62ce-4344-bf43-42ce59955f65",
   "metadata": {},
   "source": [
    "<h3> Tidak Perlu Handle Class Imbalance karena Reached.on.Time_Y.N hampir seimbang </h3>"
   ]
  },
  {
   "cell_type": "markdown",
   "id": "096757b1-033f-4c9c-94ca-1b9040d2ed64",
   "metadata": {},
   "source": [
    "# 2. Feature Engineering"
   ]
  },
  {
   "cell_type": "markdown",
   "id": "4259a202-4e3a-475c-ae8e-d1d593f5b3cb",
   "metadata": {},
   "source": [
    "### A. Feature Selection"
   ]
  },
  {
   "cell_type": "markdown",
   "id": "365714c3-06cf-4cef-b7c9-9da824782c1b",
   "metadata": {},
   "source": [
    "Untuk memilih feature yang akan digunakan dalam modelling, akan dilihat korelasi antara feature dengan target. Perhitungan korelasi yang digunakan menggunakan pearson correlation dan disajikan dalam matriks heatmap berikut."
   ]
  },
  {
   "cell_type": "code",
   "execution_count": 56,
   "id": "9e6dfba4-848c-4a2f-9bf5-002e7aab1c91",
   "metadata": {},
   "outputs": [
    {
     "data": {
      "text/plain": [
       "<AxesSubplot:>"
      ]
     },
     "execution_count": 56,
     "metadata": {},
     "output_type": "execute_result"
    },
    {
     "data": {
      "image/png": "[encoded data removed]",
      "text/plain": [
       "<Figure size 432x432 with 2 Axes>"
      ]
     },
     "metadata": {
      "needs_background": "light"
     },
     "output_type": "display_data"
    }
   ],
   "source": [
    "plt.figure(figsize=(6, 6))\n",
    "sns.heatmap(df_awal.corr(), cmap='Blues', annot=True, fmt='.2f')"
   ]
  },
  {
   "cell_type": "markdown",
   "id": "514ceb53-020d-4b3a-9b79-0a2d20dde11a",
   "metadata": {},
   "source": [
    "Pada baris paling bawah (nilai korelasi terhadap kolom target : reached on time), terlihat hampir semua kotak cenderung berwarna biru muda, yang berarti nilainya mendekati 0. Ini menandakan bahwa hampir semua feature tidak memiliki korelasi yang kuat dengan dengan kolom target reached on time. \n"
   ]
  },
  {
   "cell_type": "markdown",
   "id": "5b7eb514-4bde-4f70-922a-b612c9251bad",
   "metadata": {},
   "source": [
    "### B. Feature Extraction"
   ]
  },
  {
   "cell_type": "markdown",
   "id": "4113c124-db62-45f9-a576-5b47d8275f44",
   "metadata": {},
   "source": [
    "Membagi data discount offered ke dalam 3 kategori. Pembagian ini dilakukan karena dari EDA yang dilakukan sebelumnya discount offered positively skewed, dan memiliki banyak outlier yang sangat besar. Nilai korelasi dari discount offered paling besar dibandingkan feature lainnya yaitu 0,40. Oleh karena itu, outlier pada kolom ini tidak akan dihapus. Untuk menanganinya discount offered akan dibagi ke dalam 3 kategori menggunakan qcut.\n",
    "\n",
    "0 : discount kecil\n",
    "\n",
    "1 : discount sedang\n",
    "\n",
    "2 : discount besar"
   ]
  },
  {
   "cell_type": "code",
   "execution_count": 47,
   "id": "e74338fe-cd81-40cf-86e0-bf23ae8b60a9",
   "metadata": {},
   "outputs": [],
   "source": [
    "df['Discount_offered'] = pd.qcut(df['Discount_offered'],3,labels=[0,1,2])"
   ]
  },
  {
   "cell_type": "code",
   "execution_count": 49,
   "id": "5a00da41-a67e-47c5-a11a-ce6a32b7eabf",
   "metadata": {},
   "outputs": [
    {
     "data": {
      "text/html": [
       "<div>\n",
       "<style scoped>\n",
       "    .dataframe tbody tr th:only-of-type {\n",
       "        vertical-align: middle;\n",
       "    }\n",
       "\n",
       "    .dataframe tbody tr th {\n",
       "        vertical-align: top;\n",
       "    }\n",
       "\n",
       "    .dataframe thead th {\n",
       "        text-align: right;\n",
       "    }\n",
       "</style>\n",
       "<table border=\"1\" class=\"dataframe\">\n",
       "  <thead>\n",
       "    <tr style=\"text-align: right;\">\n",
       "      <th></th>\n",
       "      <th>ID</th>\n",
       "      <th>Warehouse_block</th>\n",
       "      <th>Mode_of_Shipment</th>\n",
       "      <th>Customer_care_calls</th>\n",
       "      <th>Customer_rating</th>\n",
       "      <th>Cost_of_the_Product</th>\n",
       "      <th>Prior_purchases</th>\n",
       "      <th>Product_importance</th>\n",
       "      <th>Gender</th>\n",
       "      <th>Discount_offered</th>\n",
       "      <th>...</th>\n",
       "      <th>Warehouse_block_D</th>\n",
       "      <th>Warehouse_block_F</th>\n",
       "      <th>Mode_of_Shipment_Flight</th>\n",
       "      <th>Mode_of_Shipment_Road</th>\n",
       "      <th>Mode_of_Shipment_Ship</th>\n",
       "      <th>Product_importance_high</th>\n",
       "      <th>Product_importance_low</th>\n",
       "      <th>Product_importance_medium</th>\n",
       "      <th>Cost_of_the_Product_std</th>\n",
       "      <th>Weight_in_gms_std</th>\n",
       "    </tr>\n",
       "  </thead>\n",
       "  <tbody>\n",
       "    <tr>\n",
       "      <th>3</th>\n",
       "      <td>4</td>\n",
       "      <td>B</td>\n",
       "      <td>Flight</td>\n",
       "      <td>3</td>\n",
       "      <td>3</td>\n",
       "      <td>176</td>\n",
       "      <td>4</td>\n",
       "      <td>medium</td>\n",
       "      <td>1</td>\n",
       "      <td>2</td>\n",
       "      <td>...</td>\n",
       "      <td>0</td>\n",
       "      <td>0</td>\n",
       "      <td>1</td>\n",
       "      <td>0</td>\n",
       "      <td>0</td>\n",
       "      <td>0</td>\n",
       "      <td>0</td>\n",
       "      <td>1</td>\n",
       "      <td>-0.781413</td>\n",
       "      <td>-1.716621</td>\n",
       "    </tr>\n",
       "    <tr>\n",
       "      <th>5</th>\n",
       "      <td>6</td>\n",
       "      <td>F</td>\n",
       "      <td>Flight</td>\n",
       "      <td>3</td>\n",
       "      <td>1</td>\n",
       "      <td>162</td>\n",
       "      <td>3</td>\n",
       "      <td>medium</td>\n",
       "      <td>0</td>\n",
       "      <td>2</td>\n",
       "      <td>...</td>\n",
       "      <td>0</td>\n",
       "      <td>1</td>\n",
       "      <td>1</td>\n",
       "      <td>0</td>\n",
       "      <td>0</td>\n",
       "      <td>0</td>\n",
       "      <td>0</td>\n",
       "      <td>1</td>\n",
       "      <td>-1.071699</td>\n",
       "      <td>-1.568407</td>\n",
       "    </tr>\n",
       "    <tr>\n",
       "      <th>6</th>\n",
       "      <td>7</td>\n",
       "      <td>D</td>\n",
       "      <td>Flight</td>\n",
       "      <td>3</td>\n",
       "      <td>4</td>\n",
       "      <td>250</td>\n",
       "      <td>3</td>\n",
       "      <td>low</td>\n",
       "      <td>0</td>\n",
       "      <td>0</td>\n",
       "      <td>...</td>\n",
       "      <td>1</td>\n",
       "      <td>0</td>\n",
       "      <td>1</td>\n",
       "      <td>0</td>\n",
       "      <td>0</td>\n",
       "      <td>0</td>\n",
       "      <td>1</td>\n",
       "      <td>0</td>\n",
       "      <td>0.752955</td>\n",
       "      <td>-0.979258</td>\n",
       "    </tr>\n",
       "    <tr>\n",
       "      <th>8</th>\n",
       "      <td>9</td>\n",
       "      <td>A</td>\n",
       "      <td>Flight</td>\n",
       "      <td>3</td>\n",
       "      <td>4</td>\n",
       "      <td>150</td>\n",
       "      <td>3</td>\n",
       "      <td>low</td>\n",
       "      <td>0</td>\n",
       "      <td>2</td>\n",
       "      <td>...</td>\n",
       "      <td>0</td>\n",
       "      <td>0</td>\n",
       "      <td>1</td>\n",
       "      <td>0</td>\n",
       "      <td>0</td>\n",
       "      <td>0</td>\n",
       "      <td>1</td>\n",
       "      <td>0</td>\n",
       "      <td>-1.320516</td>\n",
       "      <td>-1.294212</td>\n",
       "    </tr>\n",
       "    <tr>\n",
       "      <th>10</th>\n",
       "      <td>11</td>\n",
       "      <td>C</td>\n",
       "      <td>Flight</td>\n",
       "      <td>3</td>\n",
       "      <td>4</td>\n",
       "      <td>189</td>\n",
       "      <td>2</td>\n",
       "      <td>medium</td>\n",
       "      <td>1</td>\n",
       "      <td>2</td>\n",
       "      <td>...</td>\n",
       "      <td>0</td>\n",
       "      <td>0</td>\n",
       "      <td>1</td>\n",
       "      <td>0</td>\n",
       "      <td>0</td>\n",
       "      <td>0</td>\n",
       "      <td>0</td>\n",
       "      <td>1</td>\n",
       "      <td>-0.511862</td>\n",
       "      <td>-0.659981</td>\n",
       "    </tr>\n",
       "  </tbody>\n",
       "</table>\n",
       "<p>5 rows × 26 columns</p>\n",
       "</div>"
      ],
      "text/plain": [
       "    ID Warehouse_block Mode_of_Shipment  Customer_care_calls  Customer_rating  \\\n",
       "3    4               B           Flight                    3                3   \n",
       "5    6               F           Flight                    3                1   \n",
       "6    7               D           Flight                    3                4   \n",
       "8    9               A           Flight                    3                4   \n",
       "10  11               C           Flight                    3                4   \n",
       "\n",
       "    Cost_of_the_Product  Prior_purchases Product_importance  Gender  \\\n",
       "3                   176                4             medium       1   \n",
       "5                   162                3             medium       0   \n",
       "6                   250                3                low       0   \n",
       "8                   150                3                low       0   \n",
       "10                  189                2             medium       1   \n",
       "\n",
       "   Discount_offered  ...  Warehouse_block_D  Warehouse_block_F  \\\n",
       "3                 2  ...                  0                  0   \n",
       "5                 2  ...                  0                  1   \n",
       "6                 0  ...                  1                  0   \n",
       "8                 2  ...                  0                  0   \n",
       "10                2  ...                  0                  0   \n",
       "\n",
       "    Mode_of_Shipment_Flight  Mode_of_Shipment_Road  Mode_of_Shipment_Ship  \\\n",
       "3                         1                      0                      0   \n",
       "5                         1                      0                      0   \n",
       "6                         1                      0                      0   \n",
       "8                         1                      0                      0   \n",
       "10                        1                      0                      0   \n",
       "\n",
       "    Product_importance_high  Product_importance_low  \\\n",
       "3                         0                       0   \n",
       "5                         0                       0   \n",
       "6                         0                       1   \n",
       "8                         0                       1   \n",
       "10                        0                       0   \n",
       "\n",
       "    Product_importance_medium  Cost_of_the_Product_std  Weight_in_gms_std  \n",
       "3                           1                -0.781413          -1.716621  \n",
       "5                           1                -1.071699          -1.568407  \n",
       "6                           0                 0.752955          -0.979258  \n",
       "8                           0                -1.320516          -1.294212  \n",
       "10                          1                -0.511862          -0.659981  \n",
       "\n",
       "[5 rows x 26 columns]"
      ]
     },
     "execution_count": 49,
     "metadata": {},
     "output_type": "execute_result"
    }
   ],
   "source": [
    "df.head()"
   ]
  },
  {
   "cell_type": "code",
   "execution_count": 46,
   "id": "f77c2cbb-a91d-4a2d-af05-86907e66d213",
   "metadata": {},
   "outputs": [],
   "source": [
    "from sklearn.preprocessing import MinMaxScaler, StandardScaler\n",
    "\n",
    "# Cost_of_the_Produc dan Weight_in_gms gaji kita standarisasi (karena distribusi datanya sudah mendekati normal)\n",
    "df['Cost_of_the_Product_std'] = StandardScaler().fit_transform(df['Cost_of_the_Product'].values.reshape(len(df), 1))\n",
    "df['Weight_in_gms_std'] = StandardScaler().fit_transform(df['Weight_in_gms'].values.reshape(len(df), 1))"
   ]
  },
  {
   "cell_type": "markdown",
   "id": "d1145c69-7e1c-46ec-ac87-2454dd43e0dd",
   "metadata": {},
   "source": [
    "### C. Feature Rekomendasi"
   ]
  },
  {
   "cell_type": "markdown",
   "id": "1ede1626-8866-428e-a131-b573cb76c26f",
   "metadata": {},
   "source": [
    "- package size \n",
    "\n",
    "- distance\n",
    "- apakah beda pulau\n",
    "- product category\n",
    "- biaya pengiriman"
   ]
  }
 ],
 "metadata": {
  "kernelspec": {
   "display_name": "Python 3 (ipykernel)",
   "language": "python",
   "name": "python3"
  },
  "language_info": {
   "codemirror_mode": {
    "name": "ipython",
    "version": 3
   },
   "file_extension": ".py",
   "mimetype": "text/x-python",
   "name": "python",
   "nbconvert_exporter": "python",
   "pygments_lexer": "ipython3",
   "version": "3.9.12"
  }
 },
 "nbformat": 4,
 "nbformat_minor": 5
}
