{
 "cells": [
  {
   "cell_type": "code",
   "execution_count": 1,
   "id": "f981a35a-c52e-47c4-b692-2ec06a000756",
   "metadata": {},
   "outputs": [],
   "source": [
    "import pandas as pd\n",
    "import numpy as np\n",
    "\n",
    "import matplotlib.pyplot as plt\n",
    "import seaborn as sns\n",
    "from matplotlib import rcParams\n",
    "import warnings\n",
    "warnings.filterwarnings('ignore')"
   ]
  },
  {
   "cell_type": "code",
   "execution_count": 2,
   "id": "ffe61be4-1c8f-4659-aea6-8d84154893c6",
   "metadata": {},
   "outputs": [],
   "source": [
    "from matplotlib import rcParams\n",
    "\n",
    "rcParams['figure.figsize'] = 9, 4\n",
    "rcParams['lines.linewidth'] = 3\n",
    "rcParams['xtick.labelsize'] = 'x-large'\n",
    "rcParams['ytick.labelsize'] = 'x-large'"
   ]
  },
  {
   "cell_type": "code",
   "execution_count": 3,
   "id": "e54d15d4-e392-40a2-b441-7d99c9d2c34f",
   "metadata": {},
   "outputs": [
    {
     "data": {
      "text/html": [
       "<div>\n",
       "<style scoped>\n",
       "    .dataframe tbody tr th:only-of-type {\n",
       "        vertical-align: middle;\n",
       "    }\n",
       "\n",
       "    .dataframe tbody tr th {\n",
       "        vertical-align: top;\n",
       "    }\n",
       "\n",
       "    .dataframe thead th {\n",
       "        text-align: right;\n",
       "    }\n",
       "</style>\n",
       "<table border=\"1\" class=\"dataframe\">\n",
       "  <thead>\n",
       "    <tr style=\"text-align: right;\">\n",
       "      <th></th>\n",
       "      <th>Unnamed: 0</th>\n",
       "      <th>ID</th>\n",
       "      <th>Warehouse_block</th>\n",
       "      <th>Mode_of_Shipment</th>\n",
       "      <th>Customer_care_calls</th>\n",
       "      <th>Customer_rating</th>\n",
       "      <th>Cost_of_the_Product</th>\n",
       "      <th>Prior_purchases</th>\n",
       "      <th>Product_importance</th>\n",
       "      <th>Gender</th>\n",
       "      <th>...</th>\n",
       "      <th>Warehouse_block_D</th>\n",
       "      <th>Warehouse_block_F</th>\n",
       "      <th>Mode_of_Shipment_Flight</th>\n",
       "      <th>Mode_of_Shipment_Road</th>\n",
       "      <th>Mode_of_Shipment_Ship</th>\n",
       "      <th>Product_importance_high</th>\n",
       "      <th>Product_importance_low</th>\n",
       "      <th>Product_importance_medium</th>\n",
       "      <th>Cost_of_the_Product_std</th>\n",
       "      <th>Weight_in_gms_std</th>\n",
       "    </tr>\n",
       "  </thead>\n",
       "  <tbody>\n",
       "    <tr>\n",
       "      <th>0</th>\n",
       "      <td>0</td>\n",
       "      <td>1</td>\n",
       "      <td>D</td>\n",
       "      <td>Flight</td>\n",
       "      <td>4</td>\n",
       "      <td>2</td>\n",
       "      <td>177</td>\n",
       "      <td>3</td>\n",
       "      <td>low</td>\n",
       "      <td>0</td>\n",
       "      <td>...</td>\n",
       "      <td>1</td>\n",
       "      <td>0</td>\n",
       "      <td>1</td>\n",
       "      <td>0</td>\n",
       "      <td>0</td>\n",
       "      <td>0</td>\n",
       "      <td>1</td>\n",
       "      <td>0</td>\n",
       "      <td>-0.687866</td>\n",
       "      <td>-1.468816</td>\n",
       "    </tr>\n",
       "    <tr>\n",
       "      <th>1</th>\n",
       "      <td>1</td>\n",
       "      <td>2</td>\n",
       "      <td>F</td>\n",
       "      <td>Flight</td>\n",
       "      <td>4</td>\n",
       "      <td>5</td>\n",
       "      <td>216</td>\n",
       "      <td>2</td>\n",
       "      <td>low</td>\n",
       "      <td>1</td>\n",
       "      <td>...</td>\n",
       "      <td>0</td>\n",
       "      <td>1</td>\n",
       "      <td>1</td>\n",
       "      <td>0</td>\n",
       "      <td>0</td>\n",
       "      <td>0</td>\n",
       "      <td>1</td>\n",
       "      <td>0</td>\n",
       "      <td>0.122044</td>\n",
       "      <td>-0.334795</td>\n",
       "    </tr>\n",
       "    <tr>\n",
       "      <th>2</th>\n",
       "      <td>2</td>\n",
       "      <td>3</td>\n",
       "      <td>A</td>\n",
       "      <td>Flight</td>\n",
       "      <td>2</td>\n",
       "      <td>2</td>\n",
       "      <td>183</td>\n",
       "      <td>4</td>\n",
       "      <td>low</td>\n",
       "      <td>1</td>\n",
       "      <td>...</td>\n",
       "      <td>0</td>\n",
       "      <td>0</td>\n",
       "      <td>1</td>\n",
       "      <td>0</td>\n",
       "      <td>0</td>\n",
       "      <td>0</td>\n",
       "      <td>1</td>\n",
       "      <td>0</td>\n",
       "      <td>-0.563264</td>\n",
       "      <td>-0.159954</td>\n",
       "    </tr>\n",
       "    <tr>\n",
       "      <th>3</th>\n",
       "      <td>3</td>\n",
       "      <td>4</td>\n",
       "      <td>B</td>\n",
       "      <td>Flight</td>\n",
       "      <td>3</td>\n",
       "      <td>3</td>\n",
       "      <td>176</td>\n",
       "      <td>4</td>\n",
       "      <td>medium</td>\n",
       "      <td>1</td>\n",
       "      <td>...</td>\n",
       "      <td>0</td>\n",
       "      <td>0</td>\n",
       "      <td>1</td>\n",
       "      <td>0</td>\n",
       "      <td>0</td>\n",
       "      <td>0</td>\n",
       "      <td>0</td>\n",
       "      <td>1</td>\n",
       "      <td>-0.708633</td>\n",
       "      <td>-1.503050</td>\n",
       "    </tr>\n",
       "    <tr>\n",
       "      <th>4</th>\n",
       "      <td>4</td>\n",
       "      <td>5</td>\n",
       "      <td>C</td>\n",
       "      <td>Flight</td>\n",
       "      <td>2</td>\n",
       "      <td>2</td>\n",
       "      <td>184</td>\n",
       "      <td>3</td>\n",
       "      <td>medium</td>\n",
       "      <td>0</td>\n",
       "      <td>...</td>\n",
       "      <td>0</td>\n",
       "      <td>0</td>\n",
       "      <td>1</td>\n",
       "      <td>0</td>\n",
       "      <td>0</td>\n",
       "      <td>0</td>\n",
       "      <td>0</td>\n",
       "      <td>1</td>\n",
       "      <td>-0.542497</td>\n",
       "      <td>-0.704039</td>\n",
       "    </tr>\n",
       "  </tbody>\n",
       "</table>\n",
       "<p>5 rows × 27 columns</p>\n",
       "</div>"
      ],
      "text/plain": [
       "   Unnamed: 0  ID Warehouse_block Mode_of_Shipment  Customer_care_calls  \\\n",
       "0           0   1               D           Flight                    4   \n",
       "1           1   2               F           Flight                    4   \n",
       "2           2   3               A           Flight                    2   \n",
       "3           3   4               B           Flight                    3   \n",
       "4           4   5               C           Flight                    2   \n",
       "\n",
       "   Customer_rating  Cost_of_the_Product  Prior_purchases Product_importance  \\\n",
       "0                2                  177                3                low   \n",
       "1                5                  216                2                low   \n",
       "2                2                  183                4                low   \n",
       "3                3                  176                4             medium   \n",
       "4                2                  184                3             medium   \n",
       "\n",
       "   Gender  ...  Warehouse_block_D  Warehouse_block_F  Mode_of_Shipment_Flight  \\\n",
       "0       0  ...                  1                  0                        1   \n",
       "1       1  ...                  0                  1                        1   \n",
       "2       1  ...                  0                  0                        1   \n",
       "3       1  ...                  0                  0                        1   \n",
       "4       0  ...                  0                  0                        1   \n",
       "\n",
       "   Mode_of_Shipment_Road  Mode_of_Shipment_Ship  Product_importance_high  \\\n",
       "0                      0                      0                        0   \n",
       "1                      0                      0                        0   \n",
       "2                      0                      0                        0   \n",
       "3                      0                      0                        0   \n",
       "4                      0                      0                        0   \n",
       "\n",
       "   Product_importance_low  Product_importance_medium  Cost_of_the_Product_std  \\\n",
       "0                       1                          0                -0.687866   \n",
       "1                       1                          0                 0.122044   \n",
       "2                       1                          0                -0.563264   \n",
       "3                       0                          1                -0.708633   \n",
       "4                       0                          1                -0.542497   \n",
       "\n",
       "   Weight_in_gms_std  \n",
       "0          -1.468816  \n",
       "1          -0.334795  \n",
       "2          -0.159954  \n",
       "3          -1.503050  \n",
       "4          -0.704039  \n",
       "\n",
       "[5 rows x 27 columns]"
      ]
     },
     "execution_count": 3,
     "metadata": {},
     "output_type": "execute_result"
    }
   ],
   "source": [
    "df_new = pd.read_csv('df_new.csv')\n",
    "df_new.head()"
   ]
  },
  {
   "cell_type": "code",
   "execution_count": 5,
   "id": "c250570b-4161-432e-a33d-b1907917d1d5",
   "metadata": {},
   "outputs": [
    {
     "name": "stdout",
     "output_type": "stream",
     "text": [
      "<class 'pandas.core.frame.DataFrame'>\n",
      "RangeIndex: 9996 entries, 0 to 9995\n",
      "Data columns (total 27 columns):\n",
      " #   Column                     Non-Null Count  Dtype  \n",
      "---  ------                     --------------  -----  \n",
      " 0   Unnamed: 0                 9996 non-null   int64  \n",
      " 1   ID                         9996 non-null   int64  \n",
      " 2   Warehouse_block            9996 non-null   object \n",
      " 3   Mode_of_Shipment           9996 non-null   object \n",
      " 4   Customer_care_calls        9996 non-null   int64  \n",
      " 5   Customer_rating            9996 non-null   int64  \n",
      " 6   Cost_of_the_Product        9996 non-null   int64  \n",
      " 7   Prior_purchases            9996 non-null   int64  \n",
      " 8   Product_importance         9996 non-null   object \n",
      " 9   Gender                     9996 non-null   int64  \n",
      " 10  Discount_offered           9996 non-null   int64  \n",
      " 11  Weight_in_gms              9996 non-null   int64  \n",
      " 12  Reached.on.Time_Y.N        9996 non-null   int64  \n",
      " 13  Log_Discount_offered       9996 non-null   float64\n",
      " 14  Warehouse_block_A          9996 non-null   int64  \n",
      " 15  Warehouse_block_B          9996 non-null   int64  \n",
      " 16  Warehouse_block_C          9996 non-null   int64  \n",
      " 17  Warehouse_block_D          9996 non-null   int64  \n",
      " 18  Warehouse_block_F          9996 non-null   int64  \n",
      " 19  Mode_of_Shipment_Flight    9996 non-null   int64  \n",
      " 20  Mode_of_Shipment_Road      9996 non-null   int64  \n",
      " 21  Mode_of_Shipment_Ship      9996 non-null   int64  \n",
      " 22  Product_importance_high    9996 non-null   int64  \n",
      " 23  Product_importance_low     9996 non-null   int64  \n",
      " 24  Product_importance_medium  9996 non-null   int64  \n",
      " 25  Cost_of_the_Product_std    9996 non-null   float64\n",
      " 26  Weight_in_gms_std          9996 non-null   float64\n",
      "dtypes: float64(3), int64(21), object(3)\n",
      "memory usage: 2.1+ MB\n"
     ]
    }
   ],
   "source": [
    "df_new.info()"
   ]
  },
  {
   "cell_type": "markdown",
   "id": "4351f813-bcd0-4b04-8878-8df336c3c9bb",
   "metadata": {},
   "source": [
    "# 1. Modeling"
   ]
  },
  {
   "cell_type": "markdown",
   "id": "52c5c382-e8fc-45a4-91e3-970353ed96f4",
   "metadata": {},
   "source": [
    "### A. Split Data Train & Test "
   ]
  },
  {
   "cell_type": "code",
   "execution_count": 12,
   "id": "d8620f8e-5913-4159-bca6-e1f5101ceb7d",
   "metadata": {},
   "outputs": [],
   "source": [
    "X = df_new.drop(columns=['Unnamed: 0','ID','Warehouse_block', 'Product_importance','Mode_of_Shipment'])\n",
    "y = df_new[['Reached.on.Time_Y.N']]\n",
    "\n",
    "from sklearn.model_selection import train_test_split\n",
    "X_train, X_test, y_train, y_test = train_test_split(X, y, test_size=0.3, random_state=42)"
   ]
  },
  {
   "cell_type": "code",
   "execution_count": 13,
   "id": "564181c5-59ca-49ea-87ee-7ee6c419ea40",
   "metadata": {},
   "outputs": [
    {
     "name": "stdout",
     "output_type": "stream",
     "text": [
      "<class 'pandas.core.frame.DataFrame'>\n",
      "RangeIndex: 9996 entries, 0 to 9995\n",
      "Data columns (total 22 columns):\n",
      " #   Column                     Non-Null Count  Dtype  \n",
      "---  ------                     --------------  -----  \n",
      " 0   Customer_care_calls        9996 non-null   int64  \n",
      " 1   Customer_rating            9996 non-null   int64  \n",
      " 2   Cost_of_the_Product        9996 non-null   int64  \n",
      " 3   Prior_purchases            9996 non-null   int64  \n",
      " 4   Gender                     9996 non-null   int64  \n",
      " 5   Discount_offered           9996 non-null   int64  \n",
      " 6   Weight_in_gms              9996 non-null   int64  \n",
      " 7   Reached.on.Time_Y.N        9996 non-null   int64  \n",
      " 8   Log_Discount_offered       9996 non-null   float64\n",
      " 9   Warehouse_block_A          9996 non-null   int64  \n",
      " 10  Warehouse_block_B          9996 non-null   int64  \n",
      " 11  Warehouse_block_C          9996 non-null   int64  \n",
      " 12  Warehouse_block_D          9996 non-null   int64  \n",
      " 13  Warehouse_block_F          9996 non-null   int64  \n",
      " 14  Mode_of_Shipment_Flight    9996 non-null   int64  \n",
      " 15  Mode_of_Shipment_Road      9996 non-null   int64  \n",
      " 16  Mode_of_Shipment_Ship      9996 non-null   int64  \n",
      " 17  Product_importance_high    9996 non-null   int64  \n",
      " 18  Product_importance_low     9996 non-null   int64  \n",
      " 19  Product_importance_medium  9996 non-null   int64  \n",
      " 20  Cost_of_the_Product_std    9996 non-null   float64\n",
      " 21  Weight_in_gms_std          9996 non-null   float64\n",
      "dtypes: float64(3), int64(19)\n",
      "memory usage: 1.7 MB\n"
     ]
    }
   ],
   "source": [
    "X.info()"
   ]
  },
  {
   "cell_type": "code",
   "execution_count": 20,
   "id": "8e1ab545-a990-43d1-9c9e-a2c8ef073d31",
   "metadata": {},
   "outputs": [],
   "source": [
    "# Preprocessing Sample (Standardize)\n",
    "from sklearn.preprocessing import StandardScaler\n",
    "ss = StandardScaler()\n",
    "\n",
    "numerical_features = X.columns.to_list()\n",
    "for n in numerical_features:\n",
    "  scaler = ss.fit(X_train[[n]])\n",
    "  X_train[n] = scaler.transform(X_train[[n]])\n",
    "  X_test[n] = scaler.transform(X_test[[n]])"
   ]
  },
  {
   "cell_type": "markdown",
   "id": "aded24e6-5c3b-4fe6-824a-aeec721d5376",
   "metadata": {},
   "source": [
    "### B. Modeling"
   ]
  },
  {
   "cell_type": "code",
   "execution_count": 15,
   "id": "f39db91c-df44-46a9-be71-5d640bbac816",
   "metadata": {},
   "outputs": [],
   "source": [
    "# Train linear regression\n",
    "from sklearn.linear_model import LinearRegression\n",
    "regressor = LinearRegression()\n",
    "regressor.fit(X_train, y_train)\n",
    "\n",
    "y_pred = regressor.predict(X_test)"
   ]
  },
  {
   "cell_type": "code",
   "execution_count": 16,
   "id": "8cca109f-2971-4b68-b630-b18c1b1cc244",
   "metadata": {},
   "outputs": [
    {
     "name": "stdout",
     "output_type": "stream",
     "text": [
      "RMSE (test): 1.2198259718524251e-15\n",
      "MAPE (test): 1.2397465821940652\n",
      "r2 (test): 1.0\n"
     ]
    }
   ],
   "source": [
    "# Evaluate Linear Regression\n",
    "from sklearn.metrics import mean_absolute_error, mean_squared_error, mean_absolute_percentage_error, r2_score\n",
    "print('RMSE (test): ' + str(mean_squared_error(y_test, y_pred, squared=False)))\n",
    "print('MAPE (test): ' + str(mean_absolute_percentage_error(y_test, y_pred)))\n",
    "print('r2 (test): ' + str(r2_score(y_test, y_pred)))"
   ]
  },
  {
   "cell_type": "code",
   "execution_count": 17,
   "id": "d3c6ba55-18a7-4be3-b8fa-6bfd3b036bd0",
   "metadata": {},
   "outputs": [
    {
     "data": {
      "text/plain": [
       "array([[ 3.05237626e-17, -7.63278329e-17, -1.56815024e-02,\n",
       "         4.57966998e-16,  4.60785923e-17,  6.59194921e-16,\n",
       "         2.45567475e-03,  4.91008242e-01,  5.44703171e-16,\n",
       "         2.21752922e-02,  2.21218946e-02,  2.18347850e-02,\n",
       "         2.23412498e-02,  2.81393053e-02, -1.25299180e-01,\n",
       "        -1.24846707e-01, -1.59155982e-01, -1.63093942e-01,\n",
       "        -2.93413861e-01, -2.90205615e-01,  1.56815024e-02,\n",
       "        -2.45567475e-03]])"
      ]
     },
     "execution_count": 17,
     "metadata": {},
     "output_type": "execute_result"
    }
   ],
   "source": [
    "# Linear Regression Coefficient\n",
    "regressor.coef_"
   ]
  },
  {
   "cell_type": "code",
   "execution_count": 18,
   "id": "79da86ca-e51e-4b7a-bc1d-aef1139a95d9",
   "metadata": {},
   "outputs": [
    {
     "name": "stdout",
     "output_type": "stream",
     "text": [
      "RMSE (test): 1.2198259718524251e-15\n",
      "RMSE (train): 1.2169456998311465e-15\n",
      "MAPE (test): 1.2397465821940652\n",
      "MAPE (train): 1.2783335715306565\n",
      "r2 (test): 1.0\n",
      "r2 (train): 1.0\n",
      "r2 (cross-val test): 0.8\n",
      "r2 (cross-val train): 1.0\n"
     ]
    }
   ],
   "source": [
    "# Check overfit / underfit\n",
    "from sklearn.metrics import mean_absolute_error, mean_squared_error, mean_absolute_percentage_error, r2_score\n",
    "from sklearn.model_selection import cross_validate\n",
    "\n",
    "def eval_regression(model):\n",
    "  y_pred = model.predict(X_test)\n",
    "  y_pred_train = model.predict(X_train)\n",
    "\n",
    "  print('RMSE (test): ' + str(mean_squared_error(y_test, y_pred, squared=False)))\n",
    "  print('RMSE (train): ' + str(mean_squared_error(y_train, y_pred_train, squared=False)))\n",
    "\n",
    "  print('MAPE (test): ' + str(mean_absolute_percentage_error(y_test, y_pred)))\n",
    "  print('MAPE (train): ' + str(mean_absolute_percentage_error(y_train, y_pred_train)))\n",
    "\n",
    "  print('r2 (test): ' + str(r2_score(y_test, y_pred)))\n",
    "  print('r2 (train): ' + str(r2_score(y_train, y_pred_train)))\n",
    "\n",
    "  # k-fold cross validation\n",
    "  score = cross_validate(model, X, y, cv=5, scoring='r2', return_train_score=True)\n",
    "  print('r2 (cross-val test): ' + str(score['test_score'].mean()))\n",
    "  print('r2 (cross-val train): ' + str(score['train_score'].mean()))\n",
    "\n",
    "eval_regression(regressor)"
   ]
  },
  {
   "cell_type": "code",
   "execution_count": 19,
   "id": "49db277c-b2d1-45be-9fb6-4e5a247f1844",
   "metadata": {},
   "outputs": [
    {
     "name": "stdout",
     "output_type": "stream",
     "text": [
      "RMSE (test): 7.780986669849581e-05\n",
      "RMSE (train): 7.802291691917154e-05\n",
      "MAPE (test): 151189051186.57352\n",
      "MAPE (train): 155148904254.9754\n",
      "r2 (test): 0.999999974675564\n",
      "r2 (train): 0.9999999747496849\n",
      "r2 (cross-val test): 0.7999996344887567\n",
      "r2 (cross-val train): 0.9999996555781856\n"
     ]
    }
   ],
   "source": [
    "# Regularization: Ridge Regression\n",
    "from sklearn.linear_model import Ridge\n",
    "ridge = Ridge()\n",
    "ridge.fit(X_train, y_train)\n",
    "eval_regression(ridge)"
   ]
  },
  {
   "cell_type": "code",
   "execution_count": 21,
   "id": "136d15d4-f721-4c13-9c33-9e6c6f71f54a",
   "metadata": {},
   "outputs": [
    {
     "name": "stdout",
     "output_type": "stream",
     "text": [
      "RMSE (test): 7.782523534550936e-08\n",
      "RMSE (train): 7.803821340772751e-08\n",
      "MAPE (test): 151215922.35095033\n",
      "MAPE (train): 155176262.46176934\n",
      "r2 (test): 0.9999999999999747\n",
      "r2 (train): 0.9999999999999747\n",
      "r2 (cross-val test): 0.799999999999634\n",
      "r2 (cross-val train): 0.999999999999655\n"
     ]
    }
   ],
   "source": [
    "# Hyperparameter Tuning - Ridge\n",
    "from sklearn.model_selection import RandomizedSearchCV, GridSearchCV\n",
    "\n",
    "alpha = [0.001, 0.01]\n",
    "solver = ['auto', 'cholesky', 'lsqr']\n",
    "hyperparameters = dict(alpha=alpha, solver=solver)\n",
    "\n",
    "from sklearn.linear_model import Ridge\n",
    "ridge = Ridge()\n",
    "rs = RandomizedSearchCV(ridge, hyperparameters, scoring='r2', cv=5, random_state=42)\n",
    "rs.fit(X_train, y_train)\n",
    "eval_regression(rs)"
   ]
  },
  {
   "cell_type": "code",
   "execution_count": 22,
   "id": "abf620eb-de0a-4f5a-8a26-8107c776ce7d",
   "metadata": {},
   "outputs": [
    {
     "name": "stdout",
     "output_type": "stream",
     "text": [
      "RMSE (test): 0.48905544670071543\n",
      "RMSE (train): 0.49100824158919426\n",
      "MAPE (test): 1058632065024837.9\n",
      "MAPE (train): 1085768750787308.0\n",
      "r2 (test): -0.0004298435434317849\n",
      "r2 (train): 0.0\n",
      "r2 (cross-val test): -0.016992732300568237\n",
      "r2 (cross-val train): 0.1505874385762564\n"
     ]
    }
   ],
   "source": [
    "#Regularization - Lasso\n",
    "from sklearn.linear_model import Lasso\n",
    "lasso_model = Lasso()\n",
    "lasso_model.fit(X_train, y_train)\n",
    "eval_regression(lasso_model)"
   ]
  },
  {
   "cell_type": "code",
   "execution_count": 24,
   "id": "7217c2cc-d135-44ad-a2cc-d967afbd6a84",
   "metadata": {},
   "outputs": [
    {
     "name": "stdout",
     "output_type": "stream",
     "text": [
      "RMSE (test): 0.019920457755161696\n",
      "RMSE (train): 0.0199999999999989\n",
      "MAPE (test): 43120745248528.43\n",
      "MAPE (train): 44226090677136.23\n",
      "r2 (test): 0.9983401491460037\n",
      "r2 (train): 0.998340862315625\n",
      "r2 (cross-val test): 0.7910990916599155\n",
      "r2 (cross-val train): 0.9915072699974894\n"
     ]
    }
   ],
   "source": [
    "#Hyperparameter Tuning - Lasso\n",
    "from sklearn.model_selection import RandomizedSearchCV\n",
    "from scipy.stats import uniform\n",
    "\n",
    "alpha = [0.02, 0.024, 0.025, 0.026, 0.03] # alpha or lambda\n",
    "selection = ['cyclic', 'random']\n",
    "hyperparameters = dict(alpha=alpha)\n",
    "\n",
    "from sklearn.linear_model import Lasso\n",
    "lasso_model = Lasso()\n",
    "clf = RandomizedSearchCV(lasso_model, hyperparameters, cv=5, random_state=42, scoring='r2')\n",
    "\n",
    "#Fitting Model\n",
    "clf.fit(X_train, y_train)\n",
    "eval_regression(clf)"
   ]
  },
  {
   "cell_type": "code",
   "execution_count": 25,
   "id": "7fe7e828-bd62-4ed2-9141-b95b3c7d012b",
   "metadata": {},
   "outputs": [
    {
     "name": "stdout",
     "output_type": "stream",
     "text": [
      "RMSE (test): 0.48905544670071543\n",
      "RMSE (train): 0.49100824158919426\n",
      "MAPE (test): 1058632065024837.9\n",
      "MAPE (train): 1085768750787308.0\n",
      "r2 (test): -0.0004298435434317849\n",
      "r2 (train): 0.0\n",
      "r2 (cross-val test): -0.00038714821620009496\n",
      "r2 (cross-val train): 0.16649778672778764\n"
     ]
    }
   ],
   "source": [
    "# Regularization - Elastic Net\n",
    "from sklearn.linear_model import ElasticNet\n",
    "elasticnet_model = ElasticNet()\n",
    "elasticnet_model.fit(X_train, y_train)\n",
    "eval_regression(elasticnet_model)"
   ]
  },
  {
   "cell_type": "code",
   "execution_count": 26,
   "id": "f5b394b6-96ca-4a81-b8d2-e4e80d19deb8",
   "metadata": {},
   "outputs": [
    {
     "name": "stdout",
     "output_type": "stream",
     "text": [
      "RMSE (test): 4.524199729808756e-05\n",
      "RMSE (train): 4.4070669629882024e-05\n",
      "MAPE (test): 44435890009.11839\n",
      "MAPE (train): 46102865020.9009\n",
      "r2 (test): 0.9999999914384189\n",
      "r2 (train): 0.9999999919439577\n",
      "r2 (cross-val test): 0.7999999747272465\n",
      "r2 (cross-val train): 0.9999999682968126\n"
     ]
    }
   ],
   "source": [
    "# Hyperparameter Tuning - Elastic Net\n",
    "from sklearn.model_selection import RandomizedSearchCV\n",
    "from scipy.stats import uniform\n",
    "import numpy as np\n",
    "\n",
    "alpha = [1e-5, 1e-4, 1e-3, 1e-2, 1e-1, 0.0, 1.0, 10.0, 100.0]\n",
    "l1_ratio = np.arange(0, 1, 0.01)\n",
    "hyperparameters = dict(alpha=alpha, l1_ratio=l1_ratio, normalize=[True,False])\n",
    "\n",
    "from sklearn.linear_model import ElasticNet\n",
    "elasticnet_model = ElasticNet()\n",
    "clf = RandomizedSearchCV(elasticnet_model, hyperparameters, cv=5, random_state=42, scoring='r2')\n",
    "clf.fit(X_train, y_train)\n",
    "eval_regression(clf)"
   ]
  },
  {
   "cell_type": "markdown",
   "id": "61f821ec-5755-4665-bd62-53c84b3ff93a",
   "metadata": {},
   "source": [
    "#### Non Linear Algorithm"
   ]
  },
  {
   "cell_type": "code",
   "execution_count": 27,
   "id": "636de27a-9ce6-4afc-837f-f9b51e5a5c85",
   "metadata": {},
   "outputs": [
    {
     "name": "stdout",
     "output_type": "stream",
     "text": [
      "RMSE (test): 0.0\n",
      "RMSE (train): 0.0\n",
      "MAPE (test): 0.0\n",
      "MAPE (train): 0.0\n",
      "r2 (test): 1.0\n",
      "r2 (train): 1.0\n",
      "r2 (cross-val test): 1.0\n",
      "r2 (cross-val train): 1.0\n"
     ]
    }
   ],
   "source": [
    "# Decision Tree\n",
    "from sklearn.tree import DecisionTreeRegressor\n",
    "dt = DecisionTreeRegressor()\n",
    "dt.fit(X_train, y_train)\n",
    "eval_regression(dt)"
   ]
  },
  {
   "cell_type": "code",
   "execution_count": 28,
   "id": "0f8c5d73-74c7-4f26-a74e-58531668c15e",
   "metadata": {},
   "outputs": [
    {
     "name": "stdout",
     "output_type": "stream",
     "text": [
      "RMSE (test): 0.0\n",
      "RMSE (train): 0.0\n",
      "MAPE (test): 0.0\n",
      "MAPE (train): 0.0\n",
      "r2 (test): 1.0\n",
      "r2 (train): 1.0\n",
      "r2 (cross-val test): 1.0\n",
      "r2 (cross-val train): 1.0\n"
     ]
    }
   ],
   "source": [
    "# Random Forest\n",
    "from sklearn.ensemble import RandomForestRegressor\n",
    "rf = RandomForestRegressor()\n",
    "rf.fit(X_train, y_train)\n",
    "eval_regression(rf)"
   ]
  },
  {
   "cell_type": "code",
   "execution_count": null,
   "id": "93a48177-27d8-4f7c-85e5-87a7242fd0a3",
   "metadata": {},
   "outputs": [
    {
     "name": "stdout",
     "output_type": "stream",
     "text": [
      "RMSE (test): 0.057234658712868536\n",
      "RMSE (train): 0.05276555412155305\n",
      "MAPE (test): 80119705810423.94\n",
      "MAPE (train): 78557259135056.86\n",
      "r2 (test): 0.9862978526546308\n",
      "r2 (train): 0.9884515567936053\n"
     ]
    }
   ],
   "source": [
    "#Support Vector Regressor\n",
    "from sklearn.svm import SVR\n",
    "svr = SVR()\n",
    "svr.fit(X_train, y_train)\n",
    "eval_regression(svr)"
   ]
  },
  {
   "cell_type": "code",
   "execution_count": null,
   "id": "4ad853fb-ccff-450a-8edf-5f4c850eaf0f",
   "metadata": {},
   "outputs": [],
   "source": []
  }
 ],
 "metadata": {
  "kernelspec": {
   "display_name": "Python 3 (ipykernel)",
   "language": "python",
   "name": "python3"
  },
  "language_info": {
   "codemirror_mode": {
    "name": "ipython",
    "version": 3
   },
   "file_extension": ".py",
   "mimetype": "text/x-python",
   "name": "python",
   "nbconvert_exporter": "python",
   "pygments_lexer": "ipython3",
   "version": "3.9.12"
  }
 },
 "nbformat": 4,
 "nbformat_minor": 5
}
